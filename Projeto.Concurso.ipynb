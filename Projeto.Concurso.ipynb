{
 "cells": [
  {
   "cell_type": "code",
   "execution_count": 2,
   "metadata": {},
   "outputs": [
    {
     "ename": "Terminator",
     "evalue": "",
     "output_type": "error",
     "traceback": [
      "\u001b[1;31m---------------------------------------------------------------------------\u001b[0m",
      "\u001b[1;31mTerminator\u001b[0m                                Traceback (most recent call last)",
      "Cell \u001b[1;32mIn[2], line 6\u001b[0m\n\u001b[0;32m      2\u001b[0m \u001b[39mimport\u001b[39;00m \u001b[39mtime\u001b[39;00m \u001b[39m# importa o 'tempo'\u001b[39;00m\n\u001b[0;32m      4\u001b[0m wn \u001b[39m=\u001b[39m turtle\u001b[39m.\u001b[39mScreen()  \u001b[39m# gera a tela no qual as animações são feitas\u001b[39;00m\n\u001b[1;32m----> 6\u001b[0m t \u001b[39m=\u001b[39m turtle\u001b[39m.\u001b[39;49mTurtle()  \u001b[39m# cria uma instância do turtle\u001b[39;00m\n\u001b[0;32m      7\u001b[0m t\u001b[39m.\u001b[39mht()\n\u001b[0;32m      9\u001b[0m num_pen \u001b[39m=\u001b[39m []\n",
      "File \u001b[1;32mc:\\Python312\\Lib\\turtle.py:3876\u001b[0m, in \u001b[0;36mTurtle.__init__\u001b[1;34m(self, shape, undobuffersize, visible)\u001b[0m\n\u001b[0;32m   3874\u001b[0m \u001b[39mif\u001b[39;00m Turtle\u001b[39m.\u001b[39m_screen \u001b[39mis\u001b[39;00m \u001b[39mNone\u001b[39;00m:\n\u001b[0;32m   3875\u001b[0m     Turtle\u001b[39m.\u001b[39m_screen \u001b[39m=\u001b[39m Screen()\n\u001b[1;32m-> 3876\u001b[0m RawTurtle\u001b[39m.\u001b[39;49m\u001b[39m__init__\u001b[39;49m(\u001b[39mself\u001b[39;49m, Turtle\u001b[39m.\u001b[39;49m_screen,\n\u001b[0;32m   3877\u001b[0m                    shape\u001b[39m=\u001b[39;49mshape,\n\u001b[0;32m   3878\u001b[0m                    undobuffersize\u001b[39m=\u001b[39;49mundobuffersize,\n\u001b[0;32m   3879\u001b[0m                    visible\u001b[39m=\u001b[39;49mvisible)\n",
      "File \u001b[1;32mc:\\Python312\\Lib\\turtle.py:2565\u001b[0m, in \u001b[0;36mRawTurtle.__init__\u001b[1;34m(self, canvas, shape, undobuffersize, visible)\u001b[0m\n\u001b[0;32m   2563\u001b[0m \u001b[39mself\u001b[39m\u001b[39m.\u001b[39m_undobuffersize \u001b[39m=\u001b[39m undobuffersize\n\u001b[0;32m   2564\u001b[0m \u001b[39mself\u001b[39m\u001b[39m.\u001b[39mundobuffer \u001b[39m=\u001b[39m Tbuffer(undobuffersize)\n\u001b[1;32m-> 2565\u001b[0m \u001b[39mself\u001b[39;49m\u001b[39m.\u001b[39;49m_update()\n",
      "File \u001b[1;32mc:\\Python312\\Lib\\turtle.py:2668\u001b[0m, in \u001b[0;36mRawTurtle._update\u001b[1;34m(self)\u001b[0m\n\u001b[0;32m   2666\u001b[0m     \u001b[39mreturn\u001b[39;00m\n\u001b[0;32m   2667\u001b[0m \u001b[39melif\u001b[39;00m screen\u001b[39m.\u001b[39m_tracing \u001b[39m==\u001b[39m \u001b[39m1\u001b[39m:\n\u001b[1;32m-> 2668\u001b[0m     \u001b[39mself\u001b[39;49m\u001b[39m.\u001b[39;49m_update_data()\n\u001b[0;32m   2669\u001b[0m     \u001b[39mself\u001b[39m\u001b[39m.\u001b[39m_drawturtle()\n\u001b[0;32m   2670\u001b[0m     screen\u001b[39m.\u001b[39m_update()                  \u001b[39m# TurtleScreenBase\u001b[39;00m\n",
      "File \u001b[1;32mc:\\Python312\\Lib\\turtle.py:2654\u001b[0m, in \u001b[0;36mRawTurtle._update_data\u001b[1;34m(self)\u001b[0m\n\u001b[0;32m   2653\u001b[0m \u001b[39mdef\u001b[39;00m \u001b[39m_update_data\u001b[39m(\u001b[39mself\u001b[39m):\n\u001b[1;32m-> 2654\u001b[0m     \u001b[39mself\u001b[39;49m\u001b[39m.\u001b[39;49mscreen\u001b[39m.\u001b[39;49m_incrementudc()\n\u001b[0;32m   2655\u001b[0m     \u001b[39mif\u001b[39;00m \u001b[39mself\u001b[39m\u001b[39m.\u001b[39mscreen\u001b[39m.\u001b[39m_updatecounter \u001b[39m!=\u001b[39m \u001b[39m0\u001b[39m:\n\u001b[0;32m   2656\u001b[0m         \u001b[39mreturn\u001b[39;00m\n",
      "File \u001b[1;32mc:\\Python312\\Lib\\turtle.py:1284\u001b[0m, in \u001b[0;36mTurtleScreen._incrementudc\u001b[1;34m(self)\u001b[0m\n\u001b[0;32m   1282\u001b[0m \u001b[39mif\u001b[39;00m \u001b[39mnot\u001b[39;00m TurtleScreen\u001b[39m.\u001b[39m_RUNNING:\n\u001b[0;32m   1283\u001b[0m     TurtleScreen\u001b[39m.\u001b[39m_RUNNING \u001b[39m=\u001b[39m \u001b[39mTrue\u001b[39;00m\n\u001b[1;32m-> 1284\u001b[0m     \u001b[39mraise\u001b[39;00m Terminator\n\u001b[0;32m   1285\u001b[0m \u001b[39mif\u001b[39;00m \u001b[39mself\u001b[39m\u001b[39m.\u001b[39m_tracing \u001b[39m>\u001b[39m \u001b[39m0\u001b[39m:\n\u001b[0;32m   1286\u001b[0m     \u001b[39mself\u001b[39m\u001b[39m.\u001b[39m_updatecounter \u001b[39m+\u001b[39m\u001b[39m=\u001b[39m \u001b[39m1\u001b[39m\n",
      "\u001b[1;31mTerminator\u001b[0m: "
     ]
    },
    {
     "ename": "",
     "evalue": "",
     "output_type": "error",
     "traceback": [
      "\u001b[1;31mThe Kernel crashed while executing code in the the current cell or a previous cell. Please review the code in the cell(s) to identify a possible cause of the failure. Click <a href='https://aka.ms/vscodeJupyterKernelCrash'>here</a> for more info. View Jupyter <a href='command:jupyter.viewOutput'>log</a> for further details."
     ]
    }
   ],
   "source": [
    "import turtle # importa o Turtle\n",
    "import time # importa o 'tempo'\n",
    "\n",
    "wn = turtle.Screen()  # gera a tela no qual as animações são feitas\n",
    "\n",
    "t = turtle.Turtle()  # cria uma instância do turtle\n",
    "t.ht()\n",
    "\n",
    "num_pen = []\n",
    "\n",
    "pen_ind = 0.1\n",
    "\n",
    "inclinacao = 1 # direção\n",
    "\n",
    "while True:\n",
    "    turtle.tracer(1000, 0)\n",
    "    for i in range(20):  # loop gera números de 0 - 399\n",
    "\n",
    "       # if i % 20 == 0:\n",
    "       #     t.pensize(1 + pen_ind)\n",
    "       #     pen_ind += 0.1\n",
    "\n",
    "        t.pencolor(\"black\")  # cor da caneta\n",
    "        \n",
    "        t.goto(27 + inclinacao, 10 + inclinacao) # pontos do desenho + a inclinação(direção)\n",
    "        t.goto(25 + inclinacao, 32 + inclinacao)\n",
    "        t.goto(38 + inclinacao, 22 + inclinacao)\n",
    "        t.goto(27 + inclinacao, 10 + inclinacao)\n",
    "        t.goto(20 + inclinacao, 38 + inclinacao)\n",
    "        t.goto(1 + inclinacao, 55 + inclinacao)\n",
    "        t.goto(88 + inclinacao, 90 + inclinacao)\n",
    "        t.goto(55 + inclinacao, 8 + inclinacao)\n",
    "        t.goto(25 + inclinacao, 32 + inclinacao)\n",
    "        t.goto(88 + inclinacao, 90 + inclinacao)\n",
    "        t.goto(20 + inclinacao, 38 + inclinacao)\n",
    "\n",
    "    inclinacao += 1 # direção\n",
    " \n",
    "    # t.clear()\n",
    "    # t.reset()\n",
    "\n",
    "    wn.bgcolor(\"#66B7F5\") # cor de fundo\n",
    "    \n",
    "    pen_ind = 0.1\n",
    "\n",
    "    turtle.hideturtle()\n",
    "    turtle.update()  # 'Atualiza' o desenho\n",
    "    time.sleep(0.15) # tmpo para mover o desenho\n",
    "    wn.clear() # apagar o desenho anterior"
   ]
  },
  {
   "cell_type": "code",
   "execution_count": null,
   "metadata": {},
   "outputs": [],
   "source": []
  }
 ],
 "metadata": {
  "colab": {
   "name": "CMT - Aula 5 (Fazendo imagens com Turtle).ipynb",
   "provenance": []
  },
  "kernelspec": {
   "display_name": "Python 3",
   "language": "python",
   "name": "python3"
  },
  "language_info": {
   "codemirror_mode": {
    "name": "ipython",
    "version": 3
   },
   "file_extension": ".py",
   "mimetype": "text/x-python",
   "name": "python",
   "nbconvert_exporter": "python",
   "pygments_lexer": "ipython3",
   "version": "3.12.3"
  }
 },
 "nbformat": 4,
 "nbformat_minor": 1
}
